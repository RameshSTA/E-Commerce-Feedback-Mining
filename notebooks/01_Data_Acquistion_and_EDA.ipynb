{
 "cells": [
  {
   "cell_type": "markdown",
   "metadata": {},
   "source": [
    "# STEP 1. Project Setup and Data Aquisition"
   ]
  },
  {
   "cell_type": "markdown",
   "metadata": {},
   "source": [
    "### 1.1 Importing Necessary Libraries"
   ]
  },
  {
   "cell_type": "code",
   "execution_count": 16,
   "metadata": {},
   "outputs": [],
   "source": [
    "import pandas as pd \n",
    "import numpy as np \n",
    "import matplotlib.pyplot as plt \n",
    "import seaborn as sns \n",
    "import nltk \n",
    "import os  \n",
    "import warnings "
   ]
  },
  {
   "cell_type": "markdown",
   "metadata": {},
   "source": [
    "### 1.2 Configure Settings "
   ]
  },
  {
   "cell_type": "code",
   "execution_count": 17,
   "metadata": {},
   "outputs": [
    {
     "name": "stdout",
     "output_type": "stream",
     "text": [
      "Libraries imported and configured.\n"
     ]
    }
   ],
   "source": [
    "# Ignore warning for cleaner output (use with caution, understanding the warning first)\n",
    "warnings.filterwarnings('ignore')\n",
    "pd.set_option('display.max_columns',None)\n",
    "pd.set_option('display.max_colwidth',80)\n",
    "pd.set_option('display.float_format',lambda x: '%.3f' %x)\n",
    "sns.set_style('whitegrid')\n",
    "print('Libraries imported and configured.')\n"
   ]
  },
  {
   "cell_type": "markdown",
   "metadata": {},
   "source": [
    "### 1.3 Define Constants and File Paths"
   ]
  },
  {
   "cell_type": "code",
   "execution_count": 18,
   "metadata": {},
   "outputs": [
    {
     "name": "stdout",
     "output_type": "stream",
     "text": [
      "Raw data file path:../data/Womens Clothing E-Commerce Reviews.csv\n"
     ]
    }
   ],
   "source": [
    "DATA_DIR = '../data/'\n",
    "RAW_DATA_FILE =os.path.join(DATA_DIR,'Womens Clothing E-Commerce Reviews.csv')\n",
    "print(f'Raw data file path:{RAW_DATA_FILE}')"
   ]
  },
  {
   "cell_type": "code",
   "execution_count": 19,
   "metadata": {},
   "outputs": [],
   "source": [
    "# Data Loading functions \n",
    "def load_data(file_path, index_col =0): \n",
    "    '''  \n",
    "    Loads data from a CSV file.\n",
    "    Args: \n",
    "        file_path (str): The path to the CSV file.\n",
    "        index_col (int or None): Column to use as the row labels.\n",
    "    Returns:\n",
    "        pandas.DataFrame: Loaded DataFrame or None if file not found.\n",
    "    '''\n",
    "    try:\n",
    "        df = pd.read_csv(file_path,index_col=index_col)\n",
    "        print(f'Data loaded successfully from {file_path}. Shape :{df.shape}')\n",
    "        return df \n",
    "    except FileNotFoundError: \n",
    "        print(f'Error: File not found at {file_path}')\n",
    "        return None \n",
    "    except Exception as e: \n",
    "        print(f'An error occured while loading data: {e}')\n",
    "        return None\n",
    "\n"
   ]
  },
  {
   "cell_type": "code",
   "execution_count": 20,
   "metadata": {},
   "outputs": [
    {
     "name": "stdout",
     "output_type": "stream",
     "text": [
      "Data loaded successfully from ../data/Womens Clothing E-Commerce Reviews.csv. Shape :(23486, 10)\n"
     ]
    }
   ],
   "source": [
    "#load the raw dataset \n",
    "df_raw = load_data(RAW_DATA_FILE)"
   ]
  },
  {
   "cell_type": "markdown",
   "metadata": {},
   "source": [
    "### 1.5 Initial Data Inspection "
   ]
  },
  {
   "cell_type": "code",
   "execution_count": 22,
   "metadata": {},
   "outputs": [
    {
     "name": "stdout",
     "output_type": "stream",
     "text": [
      "\n",
      " -- First 5 Rows of Raw Data --\n",
      "   Clothing ID  Age                    Title  \\\n",
      "0          767   33                      NaN   \n",
      "1         1080   34                      NaN   \n",
      "2         1077   60  Some major design flaws   \n",
      "3         1049   50         My favorite buy!   \n",
      "4          847   47         Flattering shirt   \n",
      "\n",
      "                                                                       Review Text  \\\n",
      "0                            Absolutely wonderful - silky and sexy and comfortable   \n",
      "1  Love this dress!  it's sooo pretty.  i happened to find it in a store, and i...   \n",
      "2  I had such high hopes for this dress and really wanted it to work for me. i ...   \n",
      "3  I love, love, love this jumpsuit. it's fun, flirty, and fabulous! every time...   \n",
      "4  This shirt is very flattering to all due to the adjustable front tie. it is ...   \n",
      "\n",
      "   Rating  Recommended IND  Positive Feedback Count   Division Name  \\\n",
      "0       4                1                        0       Initmates   \n",
      "1       5                1                        4         General   \n",
      "2       3                0                        0         General   \n",
      "3       5                1                        0  General Petite   \n",
      "4       5                1                        6         General   \n",
      "\n",
      "  Department Name Class Name  \n",
      "0        Intimate  Intimates  \n",
      "1         Dresses    Dresses  \n",
      "2         Dresses    Dresses  \n",
      "3         Bottoms      Pants  \n",
      "4            Tops    Blouses  \n",
      "\n",
      " --- Raw data Information---\n",
      "<class 'pandas.core.frame.DataFrame'>\n",
      "Index: 23486 entries, 0 to 23485\n",
      "Data columns (total 10 columns):\n",
      " #   Column                   Non-Null Count  Dtype \n",
      "---  ------                   --------------  ----- \n",
      " 0   Clothing ID              23486 non-null  int64 \n",
      " 1   Age                      23486 non-null  int64 \n",
      " 2   Title                    19676 non-null  object\n",
      " 3   Review Text              22641 non-null  object\n",
      " 4   Rating                   23486 non-null  int64 \n",
      " 5   Recommended IND          23486 non-null  int64 \n",
      " 6   Positive Feedback Count  23486 non-null  int64 \n",
      " 7   Division Name            23472 non-null  object\n",
      " 8   Department Name          23472 non-null  object\n",
      " 9   Class Name               23472 non-null  object\n",
      "dtypes: int64(5), object(5)\n",
      "memory usage: 2.0+ MB\n"
     ]
    }
   ],
   "source": [
    "if df_raw is not None: \n",
    "    print('\\n -- First 5 Rows of Raw Data --')\n",
    "    print(df_raw.head())\n",
    "    print('\\n --- Raw data Information---')\n",
    "    df_raw.info(verbose=True,show_counts=True)\n",
    "    "
   ]
  },
  {
   "cell_type": "code",
   "execution_count": 23,
   "metadata": {},
   "outputs": [
    {
     "name": "stdout",
     "output_type": "stream",
     "text": [
      "\n",
      " --- Summary statistics (Numerical columns)---\n"
     ]
    },
    {
     "data": {
      "text/html": [
       "<div>\n",
       "<style scoped>\n",
       "    .dataframe tbody tr th:only-of-type {\n",
       "        vertical-align: middle;\n",
       "    }\n",
       "\n",
       "    .dataframe tbody tr th {\n",
       "        vertical-align: top;\n",
       "    }\n",
       "\n",
       "    .dataframe thead th {\n",
       "        text-align: right;\n",
       "    }\n",
       "</style>\n",
       "<table border=\"1\" class=\"dataframe\">\n",
       "  <thead>\n",
       "    <tr style=\"text-align: right;\">\n",
       "      <th></th>\n",
       "      <th>count</th>\n",
       "      <th>mean</th>\n",
       "      <th>std</th>\n",
       "      <th>min</th>\n",
       "      <th>25%</th>\n",
       "      <th>50%</th>\n",
       "      <th>75%</th>\n",
       "      <th>max</th>\n",
       "    </tr>\n",
       "  </thead>\n",
       "  <tbody>\n",
       "    <tr>\n",
       "      <th>Clothing ID</th>\n",
       "      <td>23486.000</td>\n",
       "      <td>918.119</td>\n",
       "      <td>203.299</td>\n",
       "      <td>0.000</td>\n",
       "      <td>861.000</td>\n",
       "      <td>936.000</td>\n",
       "      <td>1078.000</td>\n",
       "      <td>1205.000</td>\n",
       "    </tr>\n",
       "    <tr>\n",
       "      <th>Age</th>\n",
       "      <td>23486.000</td>\n",
       "      <td>43.199</td>\n",
       "      <td>12.280</td>\n",
       "      <td>18.000</td>\n",
       "      <td>34.000</td>\n",
       "      <td>41.000</td>\n",
       "      <td>52.000</td>\n",
       "      <td>99.000</td>\n",
       "    </tr>\n",
       "    <tr>\n",
       "      <th>Rating</th>\n",
       "      <td>23486.000</td>\n",
       "      <td>4.196</td>\n",
       "      <td>1.110</td>\n",
       "      <td>1.000</td>\n",
       "      <td>4.000</td>\n",
       "      <td>5.000</td>\n",
       "      <td>5.000</td>\n",
       "      <td>5.000</td>\n",
       "    </tr>\n",
       "    <tr>\n",
       "      <th>Recommended IND</th>\n",
       "      <td>23486.000</td>\n",
       "      <td>0.822</td>\n",
       "      <td>0.382</td>\n",
       "      <td>0.000</td>\n",
       "      <td>1.000</td>\n",
       "      <td>1.000</td>\n",
       "      <td>1.000</td>\n",
       "      <td>1.000</td>\n",
       "    </tr>\n",
       "    <tr>\n",
       "      <th>Positive Feedback Count</th>\n",
       "      <td>23486.000</td>\n",
       "      <td>2.536</td>\n",
       "      <td>5.702</td>\n",
       "      <td>0.000</td>\n",
       "      <td>0.000</td>\n",
       "      <td>1.000</td>\n",
       "      <td>3.000</td>\n",
       "      <td>122.000</td>\n",
       "    </tr>\n",
       "  </tbody>\n",
       "</table>\n",
       "</div>"
      ],
      "text/plain": [
       "                            count    mean     std    min     25%     50%  \\\n",
       "Clothing ID             23486.000 918.119 203.299  0.000 861.000 936.000   \n",
       "Age                     23486.000  43.199  12.280 18.000  34.000  41.000   \n",
       "Rating                  23486.000   4.196   1.110  1.000   4.000   5.000   \n",
       "Recommended IND         23486.000   0.822   0.382  0.000   1.000   1.000   \n",
       "Positive Feedback Count 23486.000   2.536   5.702  0.000   0.000   1.000   \n",
       "\n",
       "                             75%      max  \n",
       "Clothing ID             1078.000 1205.000  \n",
       "Age                       52.000   99.000  \n",
       "Rating                     5.000    5.000  \n",
       "Recommended IND            1.000    1.000  \n",
       "Positive Feedback Count    3.000  122.000  "
      ]
     },
     "execution_count": 23,
     "metadata": {},
     "output_type": "execute_result"
    }
   ],
   "source": [
    "print('\\n --- Summary statistics (Numerical columns)---')\n",
    "df_raw.describe().T # transpose for better readeability"
   ]
  },
  {
   "cell_type": "code",
   "execution_count": 25,
   "metadata": {},
   "outputs": [
    {
     "name": "stdout",
     "output_type": "stream",
     "text": [
      "\n",
      "--- Summary Statistics (Object/Categorical Columns) ---\n",
      "                 count unique  \\\n",
      "Title            19676  13993   \n",
      "Review Text      22641  22634   \n",
      "Division Name    23472      3   \n",
      "Department Name  23472      6   \n",
      "Class Name       23472     20   \n",
      "\n",
      "                                                                                             top  \\\n",
      "Title                                                                                   Love it!   \n",
      "Review Text      Perfect fit and i've gotten so many compliments. i buy all my suits from her...   \n",
      "Division Name                                                                            General   \n",
      "Department Name                                                                             Tops   \n",
      "Class Name                                                                               Dresses   \n",
      "\n",
      "                  freq  \n",
      "Title              136  \n",
      "Review Text          3  \n",
      "Division Name    13850  \n",
      "Department Name  10468  \n",
      "Class Name        6319  \n"
     ]
    }
   ],
   "source": [
    "print(\"\\n--- Summary Statistics (Object/Categorical Columns) ---\")\n",
    "print(df_raw.describe(include=['object', 'category']).T)"
   ]
  },
  {
   "cell_type": "code",
   "execution_count": 26,
   "metadata": {},
   "outputs": [
    {
     "name": "stdout",
     "output_type": "stream",
     "text": [
      "\n",
      " --- Missing Values per Columns (Raw Data)\n",
      "                 count  Percentage\n",
      "Title             3810      16.222\n",
      "Review Text        845       3.598\n",
      "Division Name       14       0.060\n",
      "Department Name     14       0.060\n",
      "Class Name          14       0.060\n"
     ]
    }
   ],
   "source": [
    "print('\\n --- Missing Values per Columns (Raw Data)')\n",
    "missing_values = df_raw.isnull().sum()  \n",
    "missing_percent = (missing_values/len(df_raw))*100 \n",
    "missing_df  = pd.DataFrame({'count':missing_values,'Percentage':missing_percent})\n",
    "missing_df =missing_df[missing_df['count']>0].sort_values(by='Percentage',ascending=False)\n",
    "\n",
    "if not missing_df.empty: \n",
    "    print(missing_df)   \n",
    "else: \n",
    "    print('No Missing values found in the raw dataset.')"
   ]
  },
  {
   "cell_type": "code",
   "execution_count": 27,
   "metadata": {},
   "outputs": [
    {
     "name": "stdout",
     "output_type": "stream",
     "text": [
      "\n",
      " ---Duplicate Rows Check (Raw Data)---\n",
      "Number of duplicate rows: 21\n",
      "Dropped duplicates. New shape : (23465, 10)\n"
     ]
    }
   ],
   "source": [
    "print('\\n ---Duplicate Rows Check (Raw Data)---')\n",
    "num_duplicates  =  df_raw.duplicated().sum()\n",
    "print(f'Number of duplicate rows: {num_duplicates}')\n",
    "if num_duplicates>0: \n",
    "    df_raw = df_raw.drop_duplicates(keep='first').reset_index(drop=True)    \n",
    "    print(f'Dropped duplicates. New shape : {df_raw.shape}')\n",
    "else: \n",
    "    print('Data loading failed. Cannot proceed with inspection.')"
   ]
  },
  {
   "cell_type": "markdown",
   "metadata": {},
   "source": [
    "### 1.5 Preliminary Data Selection & Cleaning (For NLP focus)   "
   ]
  },
  {
   "cell_type": "code",
   "execution_count": 28,
   "metadata": {},
   "outputs": [
    {
     "name": "stdout",
     "output_type": "stream",
     "text": [
      "\n",
      "Number of missing values in 'Review Text' before handling: 825\n",
      "Missing values in 'Title' after filling with empty string: 0\n",
      "\n",
      "--- Data Types of Key Columns after initial processing ('df_nlp') ---\n",
      "<class 'pandas.core.frame.DataFrame'>\n",
      "RangeIndex: 23465 entries, 0 to 23464\n",
      "Data columns (total 3 columns):\n",
      " #   Column       Non-Null Count  Dtype \n",
      "---  ------       --------------  ----- \n",
      " 0   Review Text  23465 non-null  object\n",
      " 1   Title        23465 non-null  object\n",
      " 2   Rating       23465 non-null  int64 \n",
      "dtypes: int64(1), object(2)\n",
      "memory usage: 550.1+ KB\n",
      "None\n",
      "\n",
      "--- First 5 rows of 'df_nlp' (our main working DataFrame for now) ---\n",
      "   Clothing ID  Age                    Title  \\\n",
      "0          767   33                            \n",
      "1         1080   34                            \n",
      "2         1077   60  Some major design flaws   \n",
      "3         1049   50         My favorite buy!   \n",
      "4          847   47         Flattering shirt   \n",
      "\n",
      "                                                                       Review Text  \\\n",
      "0                            Absolutely wonderful - silky and sexy and comfortable   \n",
      "1  Love this dress!  it's sooo pretty.  i happened to find it in a store, and i...   \n",
      "2  I had such high hopes for this dress and really wanted it to work for me. i ...   \n",
      "3  I love, love, love this jumpsuit. it's fun, flirty, and fabulous! every time...   \n",
      "4  This shirt is very flattering to all due to the adjustable front tie. it is ...   \n",
      "\n",
      "   Rating  Recommended IND  Positive Feedback Count   Division Name  \\\n",
      "0       4                1                        0       Initmates   \n",
      "1       5                1                        4         General   \n",
      "2       3                0                        0         General   \n",
      "3       5                1                        0  General Petite   \n",
      "4       5                1                        6         General   \n",
      "\n",
      "  Department Name Class Name  \n",
      "0        Intimate  Intimates  \n",
      "1         Dresses    Dresses  \n",
      "2         Dresses    Dresses  \n",
      "3         Bottoms      Pants  \n",
      "4            Tops    Blouses  \n"
     ]
    }
   ],
   "source": [
    "''' \n",
    "1. For our NLP project, the 'Review text' is crucial,\n",
    "2. We will also likely use 'rating', 'title', and potentially 'Recommended IND'. \n",
    "3. Other columns like 'Department Name', 'Class Name' can be used for segmentation later. \n",
    "'''\n",
    "if df_raw is not None: \n",
    "    TEXT_COLUMN = 'Review Text'\n",
    "    TITLE_COLUMN = 'Title' # Also often useful\n",
    "    RATING_COLUMN = 'Rating'\n",
    "\n",
    "    if TEXT_COLUMN not in df_raw.columns:\n",
    "        print(f\"Critical Error: The primary text column '{TEXT_COLUMN}' is not found in the dataset!\")\n",
    "        print(f\"Available columns are: {df_raw.columns.tolist()}\")\n",
    "        # Potentially stop execution or ask user to specify\n",
    "    else:\n",
    "        # Handle missing review texts\n",
    "        print(f\"\\nNumber of missing values in '{TEXT_COLUMN}' before handling: {df_raw[TEXT_COLUMN].isnull().sum()}\")\n",
    "        \n",
    "        # Create a working copy for NLP tasks\n",
    "        df_nlp = df_raw.copy()\n",
    "        \n",
    "        #  Fill NaN in 'Title' with an empty string if you plan to combine it or use it\n",
    "        if TITLE_COLUMN in df_nlp.columns:\n",
    "            df_nlp[TITLE_COLUMN].fillna('', inplace=True)\n",
    "            print(f\"Missing values in '{TITLE_COLUMN}' after filling with empty string: {df_nlp[TITLE_COLUMN].isnull().sum()}\")\n",
    "\n",
    "        # Ensure text columns are of string type\n",
    "        df_nlp[TEXT_COLUMN] = df_nlp[TEXT_COLUMN].astype(str)\n",
    "        if TITLE_COLUMN in df_nlp.columns:\n",
    "            df_nlp[TITLE_COLUMN] = df_nlp[TITLE_COLUMN].astype(str)\n",
    "\n",
    "        print(f\"\\n--- Data Types of Key Columns after initial processing ('df_nlp') ---\")\n",
    "        if RATING_COLUMN in df_nlp.columns:\n",
    "            print(df_nlp[[TEXT_COLUMN, TITLE_COLUMN, RATING_COLUMN]].info())\n",
    "        else:\n",
    "            print(df_nlp[[TEXT_COLUMN, TITLE_COLUMN]].info())\n",
    "            \n",
    "        print(f\"\\n--- First 5 rows of 'df_nlp' (our main working DataFrame for now) ---\")\n",
    "        print(df_nlp.head())\n",
    "else:\n",
    "    print(\"Skipping preliminary data selection due to data loading issues.\")"
   ]
  },
  {
   "cell_type": "code",
   "execution_count": 29,
   "metadata": {},
   "outputs": [
    {
     "name": "stdout",
     "output_type": "stream",
     "text": [
      "df_nlp saved to 'reviews_nlp_ready_step1.csv'\n"
     ]
    }
   ],
   "source": [
    "df_nlp.to_csv(os.path.join(DATA_DIR, 'reviews_nlp_ready_step1.csv'), index=False)\n",
    "print(\"df_nlp saved to 'reviews_nlp_ready_step1.csv'\")"
   ]
  }
 ],
 "metadata": {
  "kernelspec": {
   "display_name": "nlp_insights_env",
   "language": "python",
   "name": "python3"
  },
  "language_info": {
   "codemirror_mode": {
    "name": "ipython",
    "version": 3
   },
   "file_extension": ".py",
   "mimetype": "text/x-python",
   "name": "python",
   "nbconvert_exporter": "python",
   "pygments_lexer": "ipython3",
   "version": "3.12.7"
  }
 },
 "nbformat": 4,
 "nbformat_minor": 2
}
